{
 "cells": [
  {
   "cell_type": "code",
   "execution_count": 170,
   "metadata": {},
   "outputs": [],
   "source": [
    "import pandas as pd\n",
    "import numpy as np\n",
    "import matplotlib.pyplot as plt\n",
    "import random\n",
    "import scipy.stats as sts\n",
    "%matplotlib inline\n",
    "\n",
    "import warnings\n",
    "warnings.filterwarnings('ignore')"
   ]
  },
  {
   "cell_type": "markdown",
   "metadata": {
    "id": "pDrecLU-4QjS"
   },
   "source": [
    "# Практика"
   ]
  },
  {
   "cell_type": "markdown",
   "metadata": {
    "id": "gUvTNDlMaV-a"
   },
   "source": [
    "## Определение вероятности. События\n",
    "\n",
    "Требуется сгенерировать необходимые выборки и произвести по ним расчеты"
   ]
  },
  {
   "cell_type": "markdown",
   "metadata": {
    "id": "5V70InEBTgup"
   },
   "source": [
    "### Задача 1\n",
    "Брошено две монеты. Найти вероятность того, что монеты выпали разными сторонами"
   ]
  },
  {
   "cell_type": "code",
   "execution_count": 69,
   "metadata": {
    "id": "88Iw-SL3jYQV"
   },
   "outputs": [
    {
     "name": "stdout",
     "output_type": "stream",
     "text": [
      "вероятность того, что монеты выпали разными сторонами result    0.49973\n",
      "dtype: float64.\n"
     ]
    }
   ],
   "source": [
    "bernoulli_rv = sts.bernoulli(0.5) # задаётся один параметр -- вероятность успеха\n",
    "\n",
    "# задаем число экспериментов\n",
    "n = 100000\n",
    "\n",
    "# формируем выборку\n",
    "df = pd.DataFrame({ 'result' : list( map(lambda x: bernoulli_rv.rvs(1)[0] == bernoulli_rv.rvs(1)[0], range(n)) ) })\n",
    "\n",
    "# считаем вероятность того, что монеты выпали разными сторонами\n",
    "probability = df.sum()/df.shape[0]\n",
    "print(f'вероятность того, что монеты выпали разными сторонами {probability}.')"
   ]
  },
  {
   "cell_type": "markdown",
   "metadata": {
    "id": "t0XOMos2Tl0e"
   },
   "source": [
    "### Задача 2\n",
    "Брошено три монеты. Описать множество всех элементарных событий. Найти вероятности следующих событий:\n",
    "\n",
    "\n",
    "1.   A = {не выпало ни одного герба}\n",
    "2.   B = {выпало четное число гербов}\n",
    "3.   C = {на третьей монете выпал герб}\n"
   ]
  },
  {
   "cell_type": "markdown",
   "metadata": {},
   "source": [
    "<b>Множество всех элементарных событий:</b>\n",
    "1. герб, герб, герб\n",
    "2. герб, герб, решка\n",
    "3. герб, решка, решка\n",
    "4. герб, решка, герб\n",
    "5. решка, герб, герб\n",
    "6. решка, герб, решка\n",
    "7. решка, решка, решка\n",
    "8. решка, решка, герб"
   ]
  },
  {
   "cell_type": "code",
   "execution_count": 72,
   "metadata": {
    "id": "o7NjAE9uUo-L"
   },
   "outputs": [
    {
     "data": {
      "text/html": [
       "<div>\n",
       "<style scoped>\n",
       "    .dataframe tbody tr th:only-of-type {\n",
       "        vertical-align: middle;\n",
       "    }\n",
       "\n",
       "    .dataframe tbody tr th {\n",
       "        vertical-align: top;\n",
       "    }\n",
       "\n",
       "    .dataframe thead th {\n",
       "        text-align: right;\n",
       "    }\n",
       "</style>\n",
       "<table border=\"1\" class=\"dataframe\">\n",
       "  <thead>\n",
       "    <tr style=\"text-align: right;\">\n",
       "      <th></th>\n",
       "      <th>coin1</th>\n",
       "      <th>coin2</th>\n",
       "      <th>coin3</th>\n",
       "    </tr>\n",
       "  </thead>\n",
       "  <tbody>\n",
       "    <tr>\n",
       "      <th>0</th>\n",
       "      <td>1</td>\n",
       "      <td>1</td>\n",
       "      <td>0</td>\n",
       "    </tr>\n",
       "    <tr>\n",
       "      <th>1</th>\n",
       "      <td>1</td>\n",
       "      <td>0</td>\n",
       "      <td>0</td>\n",
       "    </tr>\n",
       "    <tr>\n",
       "      <th>2</th>\n",
       "      <td>0</td>\n",
       "      <td>1</td>\n",
       "      <td>1</td>\n",
       "    </tr>\n",
       "    <tr>\n",
       "      <th>3</th>\n",
       "      <td>0</td>\n",
       "      <td>0</td>\n",
       "      <td>0</td>\n",
       "    </tr>\n",
       "    <tr>\n",
       "      <th>4</th>\n",
       "      <td>1</td>\n",
       "      <td>0</td>\n",
       "      <td>0</td>\n",
       "    </tr>\n",
       "  </tbody>\n",
       "</table>\n",
       "</div>"
      ],
      "text/plain": [
       "   coin1  coin2  coin3\n",
       "0      1      1      0\n",
       "1      1      0      0\n",
       "2      0      1      1\n",
       "3      0      0      0\n",
       "4      1      0      0"
      ]
     },
     "execution_count": 72,
     "metadata": {},
     "output_type": "execute_result"
    }
   ],
   "source": [
    "# задаем число экспериментов\n",
    "n = 100000\n",
    "\n",
    "# Будем считать 1 - герб, 0 - решка\n",
    "\n",
    "# формируем выборку\n",
    "df = pd.DataFrame({ 'coin1' : list( map(lambda x: bernoulli_rv.rvs(1)[0], range(n)) ), \n",
    "                    'coin2' : list( map(lambda x: bernoulli_rv.rvs(1)[0], range(n)) ),\n",
    "                    'coin3' : list( map(lambda x: bernoulli_rv.rvs(1)[0], range(n)) )                  \n",
    "                  })\n",
    "\n",
    "df.head()"
   ]
  },
  {
   "cell_type": "code",
   "execution_count": 80,
   "metadata": {},
   "outputs": [
    {
     "name": "stdout",
     "output_type": "stream",
     "text": [
      "Вероятноть того, что не выпало ни одного герба 0.12541\n"
     ]
    }
   ],
   "source": [
    "# Вероятноть того, что не выпало ни одного герба\n",
    "res = df.apply(lambda x: sum(x) == 0, axis=1).sum() / df.shape[0]\n",
    "print(f'Вероятноть того, что не выпало ни одного герба {res}')"
   ]
  },
  {
   "cell_type": "code",
   "execution_count": 81,
   "metadata": {},
   "outputs": [
    {
     "name": "stdout",
     "output_type": "stream",
     "text": [
      "Вероятноть того, что не выпало ни одного герба 0.37364\n"
     ]
    }
   ],
   "source": [
    "# Вероятноть того, что выпало четное число гербов\n",
    "res = df.apply(lambda x: sum(x) == 2, axis=1).sum() / df.shape[0]\n",
    "print(f'Вероятноть того, что выпало четное число гербов {res}')"
   ]
  },
  {
   "cell_type": "code",
   "execution_count": 82,
   "metadata": {},
   "outputs": [
    {
     "name": "stdout",
     "output_type": "stream",
     "text": [
      "Вероятноть того, что не выпало ни одного герба 0.4961\n"
     ]
    }
   ],
   "source": [
    "# Вероятноть того, что на третьей монете выпал герб\n",
    "res = df.coin3.apply(lambda x: x == 1).sum() / df.shape[0]\n",
    "print(f'Вероятноть того, что на третьей монете выпал герб {res}')"
   ]
  },
  {
   "cell_type": "markdown",
   "metadata": {},
   "source": [
    "Предлагается также решить задачи: \n",
    "\n",
    "### Задача 3\n",
    "Из двух претендентов E и L на ответственную должность три члена комиссии должны отобрать одного. Каждый член комиссии должен указать либо одного достойного, либо забраковать обоих. Претендент считается выбранным, если он был признана достойным хотя бы двумя членами комиссии.\n",
    "Найти вероятность событий:\n",
    "\n",
    "A = {рекомендован L}, B = {рекомендован E}\n"
   ]
  },
  {
   "cell_type": "code",
   "execution_count": 99,
   "metadata": {},
   "outputs": [
    {
     "data": {
      "text/html": [
       "<div>\n",
       "<style scoped>\n",
       "    .dataframe tbody tr th:only-of-type {\n",
       "        vertical-align: middle;\n",
       "    }\n",
       "\n",
       "    .dataframe tbody tr th {\n",
       "        vertical-align: top;\n",
       "    }\n",
       "\n",
       "    .dataframe thead th {\n",
       "        text-align: right;\n",
       "    }\n",
       "</style>\n",
       "<table border=\"1\" class=\"dataframe\">\n",
       "  <thead>\n",
       "    <tr style=\"text-align: right;\">\n",
       "      <th></th>\n",
       "      <th>member1</th>\n",
       "      <th>member2</th>\n",
       "      <th>member3</th>\n",
       "    </tr>\n",
       "  </thead>\n",
       "  <tbody>\n",
       "    <tr>\n",
       "      <th>0</th>\n",
       "      <td>2</td>\n",
       "      <td>1</td>\n",
       "      <td>0</td>\n",
       "    </tr>\n",
       "    <tr>\n",
       "      <th>1</th>\n",
       "      <td>0</td>\n",
       "      <td>0</td>\n",
       "      <td>2</td>\n",
       "    </tr>\n",
       "    <tr>\n",
       "      <th>2</th>\n",
       "      <td>1</td>\n",
       "      <td>1</td>\n",
       "      <td>0</td>\n",
       "    </tr>\n",
       "    <tr>\n",
       "      <th>3</th>\n",
       "      <td>1</td>\n",
       "      <td>0</td>\n",
       "      <td>1</td>\n",
       "    </tr>\n",
       "    <tr>\n",
       "      <th>4</th>\n",
       "      <td>2</td>\n",
       "      <td>0</td>\n",
       "      <td>1</td>\n",
       "    </tr>\n",
       "  </tbody>\n",
       "</table>\n",
       "</div>"
      ],
      "text/plain": [
       "   member1  member2  member3\n",
       "0        2        1        0\n",
       "1        0        0        2\n",
       "2        1        1        0\n",
       "3        1        0        1\n",
       "4        2        0        1"
      ]
     },
     "execution_count": 99,
     "metadata": {},
     "output_type": "execute_result"
    }
   ],
   "source": [
    "# задаем число экспериментов\n",
    "n = 100000\n",
    "\n",
    "# Будем считать 0 - забракованы оба претендента\n",
    "#               1 - рекомендован претендент E\n",
    "#               2 - рекомендован претендент L\n",
    "\n",
    "# формируем выборку\n",
    "df = pd.DataFrame({ 'member1' : np.random.randint(0, 3, n), \n",
    "                    'member2' : np.random.randint(0, 3, n),\n",
    "                    'member3' : np.random.randint(0, 3, n)                  \n",
    "                  })\n",
    "\n",
    "df.head()"
   ]
  },
  {
   "cell_type": "code",
   "execution_count": 100,
   "metadata": {},
   "outputs": [],
   "source": [
    "# Разделим на два датафрейма для каждого претендента\n",
    "\n",
    "df_E = df.replace({ 'member1' : {2:0}, 'member2' : {2:0}, 'member3' : {2:0}})\n",
    "df_L = df.replace({ 'member1' : {1:0}, 'member2' : {1:0}, 'member3' : {1:0}})\n",
    "df_L = df_L.replace({ 'member1' : {2:1}, 'member2' : {2:1}, 'member3' : {2:1}})"
   ]
  },
  {
   "cell_type": "code",
   "execution_count": 101,
   "metadata": {},
   "outputs": [
    {
     "name": "stdout",
     "output_type": "stream",
     "text": [
      "Вероятноть того, что рекомендован L 0.25926\n"
     ]
    }
   ],
   "source": [
    "# Вероятноть того, что рекомендован L\n",
    "res = df_L.apply(lambda x: sum(x)>1, axis=1).sum() / df_L.shape[0]\n",
    "print(f'Вероятноть того, что рекомендован L {res}')"
   ]
  },
  {
   "cell_type": "code",
   "execution_count": 102,
   "metadata": {},
   "outputs": [
    {
     "name": "stdout",
     "output_type": "stream",
     "text": [
      "Вероятноть того, что рекомендован E 0.25984\n"
     ]
    }
   ],
   "source": [
    "# Вероятноть того, что рекомендован E\n",
    "res = df_E.apply(lambda x: sum(x)>1, axis=1).sum() / df_E.shape[0]\n",
    "print(f'Вероятноть того, что рекомендован E {res}')"
   ]
  },
  {
   "cell_type": "markdown",
   "metadata": {
    "id": "peM38mVfYa5B"
   },
   "source": [
    "### Задача 4\n",
    "Брошено две игральных кости. Описать множество элементарных событий. Найти вероятности событий:\n",
    "\n",
    "A = {вышло две \"шестерки\"}\n",
    "\n",
    "B = {сумма выпавших очков не меньше 11}\n",
    "\n",
    "C = {не выпала ни одна \"шестерка\"}"
   ]
  },
  {
   "cell_type": "markdown",
   "metadata": {},
   "source": [
    "<b>Множество всех элементарных событий:</b>\n",
    "\n",
    "1. 1, 1\n",
    "2. 1, 2\n",
    "3. 1, 3\n",
    "4. 1, 4\n",
    "5. 1, 5\n",
    "6. 1, 6\n",
    "7. 2, 1\n",
    "8. 2, 2\n",
    "9. 2, 3\n",
    "10. 2, 4\n",
    "11. 2, 5\n",
    "12. 2, 6\n",
    "13. 3, 1\n",
    "14. 3, 2\n",
    "15. 3, 3\n",
    "16. 3, 4\n",
    "17. 3, 5\n",
    "18. 3, 6\n",
    "19. 4, 1\n",
    "20. 4, 2\n",
    "21. 4, 3\n",
    "22. 4, 4\n",
    "23. 4, 5\n",
    "24. 4, 6\n",
    "25. 5, 1\n",
    "26. 5, 2\n",
    "27. 5, 3\n",
    "28. 5, 4\n",
    "29. 5, 5\n",
    "30. 5, 6\n",
    "31. 6, 1\n",
    "32. 6, 2\n",
    "33. 6, 3\n",
    "34. 6, 4\n",
    "35. 6, 5\n",
    "36. 6, 6"
   ]
  },
  {
   "cell_type": "code",
   "execution_count": 151,
   "metadata": {},
   "outputs": [
    {
     "data": {
      "text/html": [
       "<div>\n",
       "<style scoped>\n",
       "    .dataframe tbody tr th:only-of-type {\n",
       "        vertical-align: middle;\n",
       "    }\n",
       "\n",
       "    .dataframe tbody tr th {\n",
       "        vertical-align: top;\n",
       "    }\n",
       "\n",
       "    .dataframe thead th {\n",
       "        text-align: right;\n",
       "    }\n",
       "</style>\n",
       "<table border=\"1\" class=\"dataframe\">\n",
       "  <thead>\n",
       "    <tr style=\"text-align: right;\">\n",
       "      <th></th>\n",
       "      <th>cube1</th>\n",
       "      <th>cube2</th>\n",
       "    </tr>\n",
       "  </thead>\n",
       "  <tbody>\n",
       "    <tr>\n",
       "      <th>0</th>\n",
       "      <td>6</td>\n",
       "      <td>5</td>\n",
       "    </tr>\n",
       "    <tr>\n",
       "      <th>1</th>\n",
       "      <td>6</td>\n",
       "      <td>6</td>\n",
       "    </tr>\n",
       "    <tr>\n",
       "      <th>2</th>\n",
       "      <td>5</td>\n",
       "      <td>4</td>\n",
       "    </tr>\n",
       "    <tr>\n",
       "      <th>3</th>\n",
       "      <td>5</td>\n",
       "      <td>5</td>\n",
       "    </tr>\n",
       "    <tr>\n",
       "      <th>4</th>\n",
       "      <td>4</td>\n",
       "      <td>4</td>\n",
       "    </tr>\n",
       "  </tbody>\n",
       "</table>\n",
       "</div>"
      ],
      "text/plain": [
       "   cube1  cube2\n",
       "0      6      5\n",
       "1      6      6\n",
       "2      5      4\n",
       "3      5      5\n",
       "4      4      4"
      ]
     },
     "execution_count": 151,
     "metadata": {},
     "output_type": "execute_result"
    }
   ],
   "source": [
    "# задаем число экспериментов\n",
    "n = 100000\n",
    "\n",
    "# формируем выборку из равномерного закона распределения, значение равно выпавшим очкам\n",
    "df = pd.DataFrame({ 'cube1' : np.random.randint(1, 7, n), \n",
    "                    'cube2' : np.random.randint(1, 7, n)\n",
    "                  })\n",
    "\n",
    "df.head()"
   ]
  },
  {
   "cell_type": "code",
   "execution_count": 152,
   "metadata": {},
   "outputs": [
    {
     "name": "stdout",
     "output_type": "stream",
     "text": [
      "Вероятноть того, что вышло две \"шестерки\" 0.0273\n"
     ]
    }
   ],
   "source": [
    "# Вероятноть того, что вышло две \"шестерки\"\n",
    "res = df.apply(lambda x: (x.cube1==6) & (x.cube2==6), axis=1).sum() / df.shape[0]\n",
    "print(f'Вероятноть того, что вышло две \"шестерки\" {res}')"
   ]
  },
  {
   "cell_type": "code",
   "execution_count": 153,
   "metadata": {},
   "outputs": [
    {
     "name": "stdout",
     "output_type": "stream",
     "text": [
      "Вероятноть того, что сумма выпавших очков не меньше 11 0.0834\n"
     ]
    }
   ],
   "source": [
    "# Вероятноть того, что сумма выпавших очков не меньше 11\n",
    "res = df.apply(lambda x: x.cube1 + x.cube2 >= 11, axis=1).sum() / df.shape[0]\n",
    "print(f'Вероятноть того, что сумма выпавших очков не меньше 11 {res}')"
   ]
  },
  {
   "cell_type": "code",
   "execution_count": 154,
   "metadata": {},
   "outputs": [
    {
     "name": "stdout",
     "output_type": "stream",
     "text": [
      "Вероятноть того, что не выпала ни одна \"шестерка\" 0.69508\n"
     ]
    }
   ],
   "source": [
    "# Вероятноть того, что не выпала ни одна \"шестерка\"\n",
    "res = df.apply(lambda x: (x.cube1!=6) & (x.cube2!=6), axis=1).sum() / df.shape[0]\n",
    "print(f'Вероятноть того, что не выпала ни одна \"шестерка\" {res}')"
   ]
  },
  {
   "cell_type": "markdown",
   "metadata": {
    "id": "f-Bi0p8haclB"
   },
   "source": [
    "## Вероятность суммы событий"
   ]
  },
  {
   "cell_type": "markdown",
   "metadata": {
    "id": "g7A7QlvGTnwZ"
   },
   "source": [
    "### Задача 5\n",
    "Брошены две игральные кости. Найти вероятность события D = {выпала хотя бы одна шестёрка}\n"
   ]
  },
  {
   "cell_type": "code",
   "execution_count": 155,
   "metadata": {
    "id": "vjtTJN-kUp9D"
   },
   "outputs": [
    {
     "name": "stdout",
     "output_type": "stream",
     "text": [
      "Вероятноть того, что выпала хотя бы одна шестёрка 0.08264\n"
     ]
    }
   ],
   "source": [
    "# Вероятноть того, что выпала хотя бы одна шестёрка\n",
    "res = df.apply(lambda x: x.cube1==6 | x.cube2==6, axis=1).sum() / df.shape[0]\n",
    "print(f'Вероятноть того, что выпала хотя бы одна шестёрка {res}')"
   ]
  },
  {
   "cell_type": "markdown",
   "metadata": {
    "id": "R1bYSzQQbC6I"
   },
   "source": [
    "Предлагается также решить задачи: \n",
    "\n",
    "### Задача 6\n",
    "В телефонном номере три последние цифры стерлись. Считая, что все возможные значения стершихся цифр равновероятны, найти вероятность событий:\n",
    "\n",
    "A = {Стерлись различные цифры},\n",
    "\n",
    "B = {Стерлись одинаковые цифры},\n",
    "\n",
    "C = {Среди стершихся цифр хотя бы две совпадают},\n",
    "\n",
    "D = {Среди стершихся цифр хотя бы две различны}\n"
   ]
  },
  {
   "cell_type": "code",
   "execution_count": 165,
   "metadata": {},
   "outputs": [
    {
     "data": {
      "text/html": [
       "<div>\n",
       "<style scoped>\n",
       "    .dataframe tbody tr th:only-of-type {\n",
       "        vertical-align: middle;\n",
       "    }\n",
       "\n",
       "    .dataframe tbody tr th {\n",
       "        vertical-align: top;\n",
       "    }\n",
       "\n",
       "    .dataframe thead th {\n",
       "        text-align: right;\n",
       "    }\n",
       "</style>\n",
       "<table border=\"1\" class=\"dataframe\">\n",
       "  <thead>\n",
       "    <tr style=\"text-align: right;\">\n",
       "      <th></th>\n",
       "      <th>number1</th>\n",
       "      <th>number2</th>\n",
       "      <th>number3</th>\n",
       "    </tr>\n",
       "  </thead>\n",
       "  <tbody>\n",
       "    <tr>\n",
       "      <th>0</th>\n",
       "      <td>5</td>\n",
       "      <td>3</td>\n",
       "      <td>0</td>\n",
       "    </tr>\n",
       "    <tr>\n",
       "      <th>1</th>\n",
       "      <td>5</td>\n",
       "      <td>8</td>\n",
       "      <td>4</td>\n",
       "    </tr>\n",
       "    <tr>\n",
       "      <th>2</th>\n",
       "      <td>3</td>\n",
       "      <td>8</td>\n",
       "      <td>2</td>\n",
       "    </tr>\n",
       "    <tr>\n",
       "      <th>3</th>\n",
       "      <td>9</td>\n",
       "      <td>4</td>\n",
       "      <td>7</td>\n",
       "    </tr>\n",
       "    <tr>\n",
       "      <th>4</th>\n",
       "      <td>7</td>\n",
       "      <td>1</td>\n",
       "      <td>8</td>\n",
       "    </tr>\n",
       "  </tbody>\n",
       "</table>\n",
       "</div>"
      ],
      "text/plain": [
       "   number1  number2  number3\n",
       "0        5        3        0\n",
       "1        5        8        4\n",
       "2        3        8        2\n",
       "3        9        4        7\n",
       "4        7        1        8"
      ]
     },
     "execution_count": 165,
     "metadata": {},
     "output_type": "execute_result"
    }
   ],
   "source": [
    "# задаем число экспериментов\n",
    "n = 100000\n",
    "\n",
    "# формируем выборку из равномерного закона распределения, значение равно стершейся цифре\n",
    "df = pd.DataFrame({ 'number1' : np.random.randint(0, 10, n), \n",
    "                    'number2' : np.random.randint(0, 10, n),\n",
    "                    'number3' : np.random.randint(0, 10, n)\n",
    "                  })\n",
    "\n",
    "df.head()"
   ]
  },
  {
   "cell_type": "code",
   "execution_count": 166,
   "metadata": {},
   "outputs": [
    {
     "name": "stdout",
     "output_type": "stream",
     "text": [
      "Вероятноть того, что стерлись различные цифры 0.72032\n"
     ]
    }
   ],
   "source": [
    "# Вероятноть того, что стерлись различные цифры\n",
    "res = df.apply(lambda x: (x.number1!=x.number2) & (x.number2!=x.number3) & (x.number1!=x.number3), axis=1).sum() / df.shape[0]\n",
    "print(f'Вероятноть того, что стерлись различные цифры {res}')"
   ]
  },
  {
   "cell_type": "code",
   "execution_count": 167,
   "metadata": {},
   "outputs": [
    {
     "name": "stdout",
     "output_type": "stream",
     "text": [
      "Вероятноть того, что стерлись одинаковые цифры 0.00917\n"
     ]
    }
   ],
   "source": [
    "# Вероятноть того, что стерлись одинаковые цифры\n",
    "res = df.apply(lambda x: (x.number1==x.number2) & (x.number2==x.number3), axis=1).sum() / df.shape[0]\n",
    "print(f'Вероятноть того, что стерлись одинаковые цифры {res}')"
   ]
  },
  {
   "cell_type": "code",
   "execution_count": 168,
   "metadata": {},
   "outputs": [
    {
     "name": "stdout",
     "output_type": "stream",
     "text": [
      "Вероятноть того, что среди стершихся цифр хотя бы две совпадают 0.27968\n"
     ]
    }
   ],
   "source": [
    "# Вероятноть того, что среди стершихся цифр хотя бы две совпадают\n",
    "res = df.apply(lambda x: (x.number1==x.number2) | (x.number2==x.number3) | (x.number1==x.number3), axis=1).sum() / df.shape[0]\n",
    "print(f'Вероятноть того, что среди стершихся цифр хотя бы две совпадают {res}')"
   ]
  },
  {
   "cell_type": "code",
   "execution_count": 169,
   "metadata": {},
   "outputs": [
    {
     "name": "stdout",
     "output_type": "stream",
     "text": [
      "Вероятноть того, что среди стершихся цифр хотя бы две различны 0.99083\n"
     ]
    }
   ],
   "source": [
    "# Вероятноть того, что среди стершихся цифр хотя бы две различны\n",
    "res = df.apply(lambda x: (x.number1!=x.number2) | (x.number2!=x.number3) | (x.number1!=x.number3), axis=1).sum() / df.shape[0]\n",
    "print(f'Вероятноть того, что среди стершихся цифр хотя бы две различны {res}')"
   ]
  },
  {
   "cell_type": "markdown",
   "metadata": {
    "id": "RnugkR8BalK_"
   },
   "source": [
    "## Случайные величины"
   ]
  },
  {
   "cell_type": "markdown",
   "metadata": {
    "id": "yLoZDZ17UVsp"
   },
   "source": [
    "### Задача 7\n",
    "В лотерее имеется 10 билетов, из которых один выигрышный. Размер выигрыша 10 ден. ед.; стоимость билета 1 ден ед. Найти закон распределения случайной величины X, равной чистому выигрышу участника лотереи, который вытаскивает билет первым."
   ]
  },
  {
   "cell_type": "code",
   "execution_count": 212,
   "metadata": {},
   "outputs": [
    {
     "data": {
      "text/html": [
       "<div>\n",
       "<style scoped>\n",
       "    .dataframe tbody tr th:only-of-type {\n",
       "        vertical-align: middle;\n",
       "    }\n",
       "\n",
       "    .dataframe tbody tr th {\n",
       "        vertical-align: top;\n",
       "    }\n",
       "\n",
       "    .dataframe thead th {\n",
       "        text-align: right;\n",
       "    }\n",
       "</style>\n",
       "<table border=\"1\" class=\"dataframe\">\n",
       "  <thead>\n",
       "    <tr style=\"text-align: right;\">\n",
       "      <th></th>\n",
       "      <th>res</th>\n",
       "    </tr>\n",
       "  </thead>\n",
       "  <tbody>\n",
       "    <tr>\n",
       "      <th>0</th>\n",
       "      <td>-1</td>\n",
       "    </tr>\n",
       "    <tr>\n",
       "      <th>1</th>\n",
       "      <td>-1</td>\n",
       "    </tr>\n",
       "    <tr>\n",
       "      <th>2</th>\n",
       "      <td>-1</td>\n",
       "    </tr>\n",
       "    <tr>\n",
       "      <th>3</th>\n",
       "      <td>9</td>\n",
       "    </tr>\n",
       "    <tr>\n",
       "      <th>4</th>\n",
       "      <td>-1</td>\n",
       "    </tr>\n",
       "  </tbody>\n",
       "</table>\n",
       "</div>"
      ],
      "text/plain": [
       "   res\n",
       "0   -1\n",
       "1   -1\n",
       "2   -1\n",
       "3    9\n",
       "4   -1"
      ]
     },
     "execution_count": 212,
     "metadata": {},
     "output_type": "execute_result"
    }
   ],
   "source": [
    "# задаем число экспериментов\n",
    "n = 100000\n",
    "# Всего билетов. Будем считать, что выигрышный первый билет\n",
    "tickets = 10\n",
    "\n",
    "# формируем выборку, сразу считаем сумму, которую либо выиграл, либо проиграл участник\n",
    "df = pd.DataFrame( {'res' : map(lambda x: 9 if x==1 else -1, np.random.randint(1, tickets+1, n)) } )\n",
    "\n",
    "df.head()"
   ]
  },
  {
   "cell_type": "code",
   "execution_count": 213,
   "metadata": {},
   "outputs": [
    {
     "data": {
      "text/plain": [
       "<AxesSubplot:ylabel='Frequency'>"
      ]
     },
     "execution_count": 213,
     "metadata": {},
     "output_type": "execute_result"
    },
    {
     "data": {
      "image/png": "[encoded data removed]",
      "text/plain": [
       "<Figure size 432x288 with 1 Axes>"
      ]
     },
     "metadata": {
      "needs_background": "light"
     },
     "output_type": "display_data"
    }
   ],
   "source": [
    "df.plot(kind='hist')"
   ]
  },
  {
   "cell_type": "markdown",
   "metadata": {
    "id": "U-NK9liSbpvb"
   },
   "source": [
    "Предлагается также решить задачу: \n",
    "\n",
    "### Задача 8\n",
    "Брошены две игральные кости. Найти закон распределения случайной величины $X$, равной сумме выпавших очков. Найти вероятности событий ${X <= 4}$, ${X > 4}$"
   ]
  },
  {
   "cell_type": "code",
   "execution_count": 233,
   "metadata": {},
   "outputs": [
    {
     "data": {
      "text/html": [
       "<div>\n",
       "<style scoped>\n",
       "    .dataframe tbody tr th:only-of-type {\n",
       "        vertical-align: middle;\n",
       "    }\n",
       "\n",
       "    .dataframe tbody tr th {\n",
       "        vertical-align: top;\n",
       "    }\n",
       "\n",
       "    .dataframe thead th {\n",
       "        text-align: right;\n",
       "    }\n",
       "</style>\n",
       "<table border=\"1\" class=\"dataframe\">\n",
       "  <thead>\n",
       "    <tr style=\"text-align: right;\">\n",
       "      <th></th>\n",
       "      <th>cube1</th>\n",
       "      <th>cube2</th>\n",
       "      <th>res</th>\n",
       "    </tr>\n",
       "  </thead>\n",
       "  <tbody>\n",
       "    <tr>\n",
       "      <th>0</th>\n",
       "      <td>1</td>\n",
       "      <td>5</td>\n",
       "      <td>6</td>\n",
       "    </tr>\n",
       "    <tr>\n",
       "      <th>1</th>\n",
       "      <td>3</td>\n",
       "      <td>6</td>\n",
       "      <td>9</td>\n",
       "    </tr>\n",
       "    <tr>\n",
       "      <th>2</th>\n",
       "      <td>1</td>\n",
       "      <td>6</td>\n",
       "      <td>7</td>\n",
       "    </tr>\n",
       "    <tr>\n",
       "      <th>3</th>\n",
       "      <td>1</td>\n",
       "      <td>6</td>\n",
       "      <td>7</td>\n",
       "    </tr>\n",
       "    <tr>\n",
       "      <th>4</th>\n",
       "      <td>5</td>\n",
       "      <td>4</td>\n",
       "      <td>9</td>\n",
       "    </tr>\n",
       "  </tbody>\n",
       "</table>\n",
       "</div>"
      ],
      "text/plain": [
       "   cube1  cube2  res\n",
       "0      1      5    6\n",
       "1      3      6    9\n",
       "2      1      6    7\n",
       "3      1      6    7\n",
       "4      5      4    9"
      ]
     },
     "execution_count": 233,
     "metadata": {},
     "output_type": "execute_result"
    }
   ],
   "source": [
    "# задаем число экспериментов\n",
    "n = 100000\n",
    "\n",
    "# формируем выборку из равномерного закона распределения, значение равно выпавшим очкам\n",
    "df = pd.DataFrame({ 'cube1' : np.random.randint(1, 7, n), \n",
    "                    'cube2' : np.random.randint(1, 7, n)\n",
    "                  })\n",
    "\n",
    "df['res'] = df.sum(axis=1)\n",
    "\n",
    "df.head()"
   ]
  },
  {
   "cell_type": "code",
   "execution_count": 234,
   "metadata": {},
   "outputs": [
    {
     "name": "stdout",
     "output_type": "stream",
     "text": [
      "Вероятноть того, что 𝑋<=4 0.16728\n"
     ]
    }
   ],
   "source": [
    "# Вероятноть того, что 𝑋<=4\n",
    "res = df[df['res'] <= 4].shape[0] / df.shape[0]\n",
    "print(f'Вероятноть того, что 𝑋<=4 {res}')"
   ]
  },
  {
   "cell_type": "code",
   "execution_count": 235,
   "metadata": {},
   "outputs": [
    {
     "name": "stdout",
     "output_type": "stream",
     "text": [
      "Вероятноть того, что 𝑋>4 0.08406\n"
     ]
    }
   ],
   "source": [
    "# Вероятноть того, что 𝑋>4\n",
    "res = df[df['res'] < 4].shape[0] / df.shape[0]\n",
    "print(f'Вероятноть того, что 𝑋>4 {res}')"
   ]
  },
  {
   "cell_type": "markdown",
   "metadata": {
    "id": "shgW4D83awjK"
   },
   "source": [
    "## Условные вероятности"
   ]
  },
  {
   "cell_type": "markdown",
   "metadata": {
    "id": "Fbu1RFZwWZrk"
   },
   "source": [
    "### Задача 9\n",
    "Из колоды (36 карт) вынимают последовательно без возвращения две карты. Найти вероятность того, что первой картой была шестерка, а второй — семерка. Найти условную вероятность того же события при условии, что обе карты бубновой масти.\n"
   ]
  },
  {
   "cell_type": "code",
   "execution_count": null,
   "metadata": {
    "id": "037o56awW9-E"
   },
   "outputs": [],
   "source": []
  },
  {
   "cell_type": "markdown",
   "metadata": {
    "id": "hNVxtaz5c57b"
   },
   "source": [
    "Предлагается также решить задачу: \n",
    "\n",
    "### Задача 10\n",
    "Из урны, содержащей два белых и три черных шара, последовательно извлекают два шара; вынутые шары не возвращаются. Если первый шар оказался черным, то перед вторым извлечением в урну добавляют белый шар. В противном случае состав оставшихся шаров не меняют. Найти вероятности событий:\n",
    "\n",
    "$A$ = {извлечены два белых шара},\n",
    "\n",
    "$B$ = {извлечены два черных шара}\n",
    "\n",
    "Указание. Пусть событие $C_1$ = {первый шар белый}, событие $C_2$ = {второй шар белый}. Тогда $A = C_1C_2$, $B = \\overline C_1 \\overline C_2$ "
   ]
  },
  {
   "cell_type": "code",
   "execution_count": null,
   "metadata": {
    "id": "WSLnhk2sdBt_"
   },
   "outputs": [],
   "source": []
  }
 ],
 "metadata": {
  "colab": {
   "collapsed_sections": [],
   "name": "Практика к занятию 11.ipynb",
   "provenance": []
  },
  "kernelspec": {
   "display_name": "Python 3",
   "language": "python",
   "name": "python3"
  },
  "language_info": {
   "codemirror_mode": {
    "name": "ipython",
    "version": 3
   },
   "file_extension": ".py",
   "mimetype": "text/x-python",
   "name": "python",
   "nbconvert_exporter": "python",
   "pygments_lexer": "ipython3",
   "version": "3.8.10"
  }
 },
 "nbformat": 4,
 "nbformat_minor": 1
}
