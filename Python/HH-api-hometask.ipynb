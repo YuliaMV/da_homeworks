{
 "cells": [
  {
   "cell_type": "markdown",
   "metadata": {
    "pycharm": {
     "name": "#%% md\n"
    }
   },
   "source": [
    "# Задание\n",
    "* Скачать все вакансии СБЕРа с ХХ (у апи есть ограничение в 2000, а также captcha подумайте как их можно обойти)\n",
    "* Извлеките все описания этих вакансий\n",
    "* Создайте аналогичный vacancy DataFrame только добавьте поле skills\n",
    "* Переведите даты публикаций в datetime\n",
    "* Постройте график опубликованных вакансий по датам\n",
    "* Переведите даты в дни недели, и определите день недели, в который больше всего публикуют вакансий\n",
    "* Найдите те вакансии с использованием python, которые вам интересны\n",
    "* Определите по полю skills какие навыки больше всего востребованы для этих вакансий\n",
    "* Постройте график наиболее востребованных навыков для аналитика данных"
   ]
  },
  {
   "cell_type": "markdown",
   "metadata": {
    "pycharm": {
     "name": "#%% md\n"
    }
   },
   "source": [
    "https://github.com/hhru/api"
   ]
  },
  {
   "cell_type": "code",
   "execution_count": 263,
   "metadata": {
    "pycharm": {
     "name": "#%%\n"
    }
   },
   "outputs": [],
   "source": [
    "import requests\n",
    "import json\n",
    "from tqdm.auto import tqdm\n",
    "from collections import defaultdict\n",
    "import pickle\n",
    "import pandas as pd\n",
    "import numpy as np"
   ]
  },
  {
   "cell_type": "code",
   "execution_count": 49,
   "metadata": {
    "pycharm": {
     "name": "#%%\n"
    }
   },
   "outputs": [],
   "source": [
    "sber = '3529'\n",
    "page = 1\n",
    "num_per_page = 100\n",
    "moscow = 1\n",
    "url = f'https://api.hh.ru/vacancies?employer_id={sber}&page={page}&per_page={num_per_page}&area={moscow}'"
   ]
  },
  {
   "cell_type": "code",
   "execution_count": 50,
   "metadata": {
    "pycharm": {
     "name": "#%%\n"
    }
   },
   "outputs": [],
   "source": [
    "res = requests.get(url)"
   ]
  },
  {
   "cell_type": "code",
   "execution_count": 52,
   "metadata": {
    "pycharm": {
     "name": "#%%\n"
    }
   },
   "outputs": [
    {
     "data": {
      "text/plain": [
       "13"
      ]
     },
     "execution_count": 52,
     "metadata": {},
     "output_type": "execute_result"
    }
   ],
   "source": [
    "vacs = res.json()\n",
    "num_pages = vacs.get('pages')\n",
    "num_pages"
   ]
  },
  {
   "cell_type": "code",
   "execution_count": 53,
   "metadata": {},
   "outputs": [
    {
     "name": "stdout",
     "output_type": "stream",
     "text": [
      "Всего найдено 1233 вакансий\n"
     ]
    }
   ],
   "source": [
    "print(f\"Всего найдено {vacs['found']} вакансий\")"
   ]
  },
  {
   "cell_type": "markdown",
   "metadata": {},
   "source": [
    "### Скачать все вакансии СБЕРа с ХХ"
   ]
  },
  {
   "cell_type": "code",
   "execution_count": 58,
   "metadata": {},
   "outputs": [],
   "source": [
    "vacancies = []\n",
    "\n",
    "for pg in range(vacs['pages']):\n",
    "    url = f'https://api.hh.ru/vacancies?employer_id={sber}&page={pg}&per_page={num_per_page}&area={moscow}'\n",
    "    res = requests.get(url)\n",
    "    vacs = res.json()\n",
    "    vacancies += vacs['items']"
   ]
  },
  {
   "cell_type": "code",
   "execution_count": 59,
   "metadata": {
    "pycharm": {
     "name": "#%%\n"
    }
   },
   "outputs": [
    {
     "name": "stdout",
     "output_type": "stream",
     "text": [
      "Всего скачали 1233 вакансии\n"
     ]
    }
   ],
   "source": [
    "print(f'Всего скачали {len(vacancies)} вакансии')"
   ]
  },
  {
   "cell_type": "markdown",
   "metadata": {},
   "source": [
    "### Извлеките все описания этих вакансий"
   ]
  },
  {
   "cell_type": "markdown",
   "metadata": {},
   "source": [
    "Соберем полную информацию о вакансиях по их ID."
   ]
  },
  {
   "cell_type": "code",
   "execution_count": 77,
   "metadata": {},
   "outputs": [
    {
     "data": {
      "application/vnd.jupyter.widget-view+json": {
       "model_id": "fe56e12b51d54b03b495694ed10c5c33",
       "version_major": 2,
       "version_minor": 0
      },
      "text/plain": [
       "  0%|          | 0/1233 [00:00<?, ?it/s]"
      ]
     },
     "metadata": {},
     "output_type": "display_data"
    }
   ],
   "source": [
    "# 628\n",
    "\n",
    "all_info_vacs = []\n",
    "vacancy_ids = [el['id'] for el in vacancies]\n",
    "\n",
    "for v_id in tqdm(vacancy_ids):\n",
    "    url = f'https://api.hh.ru/vacancies/{v_id}'\n",
    "    res = requests.get(url)\n",
    "    vac = res.json()\n",
    "    all_info_vacs.append(vac)"
   ]
  },
  {
   "cell_type": "code",
   "execution_count": 79,
   "metadata": {},
   "outputs": [
    {
     "name": "stdout",
     "output_type": "stream",
     "text": [
      "Всего скачали полную информацию о 1233 вакансий.\n"
     ]
    }
   ],
   "source": [
    "print(f'Всего скачали полную информацию о {len(all_info_vacs)} вакансий.')"
   ]
  },
  {
   "cell_type": "code",
   "execution_count": 85,
   "metadata": {},
   "outputs": [
    {
     "name": "stdout",
     "output_type": "stream",
     "text": [
      "Все описания вакансий содержаться в словаре descriptions\n"
     ]
    }
   ],
   "source": [
    "descriptions = {vac['id'] : vac['description'] for vac in all_info_vacs}\n",
    "print('Все описания вакансий содержаться в словаре descriptions')"
   ]
  },
  {
   "cell_type": "markdown",
   "metadata": {},
   "source": [
    "### Создайте аналогичный vacancy DataFrame только добавьте поле skills"
   ]
  },
  {
   "cell_type": "code",
   "execution_count": 278,
   "metadata": {},
   "outputs": [],
   "source": [
    "cols = vacancies[0].keys()"
   ]
  },
  {
   "cell_type": "code",
   "execution_count": 279,
   "metadata": {},
   "outputs": [],
   "source": [
    "df = pd.DataFrame()\n",
    "\n",
    "for col in cols:\n",
    "    s = pd.Series([el[col] for el in vacancies])\n",
    "    df[col] = s\n",
    "    \n",
    "df['skills'] = pd.Series([el['key_skills'] for el in all_info_vacs])"
   ]
  },
  {
   "cell_type": "code",
   "execution_count": 280,
   "metadata": {},
   "outputs": [
    {
     "data": {
      "text/plain": [
       "(1233, 30)"
      ]
     },
     "execution_count": 280,
     "metadata": {},
     "output_type": "execute_result"
    }
   ],
   "source": [
    "# Размер получившегося датафрейма\n",
    "df.shape"
   ]
  },
  {
   "cell_type": "code",
   "execution_count": 281,
   "metadata": {},
   "outputs": [
    {
     "data": {
      "text/html": [
       "<div>\n",
       "<style scoped>\n",
       "    .dataframe tbody tr th:only-of-type {\n",
       "        vertical-align: middle;\n",
       "    }\n",
       "\n",
       "    .dataframe tbody tr th {\n",
       "        vertical-align: top;\n",
       "    }\n",
       "\n",
       "    .dataframe thead th {\n",
       "        text-align: right;\n",
       "    }\n",
       "</style>\n",
       "<table border=\"1\" class=\"dataframe\">\n",
       "  <thead>\n",
       "    <tr style=\"text-align: right;\">\n",
       "      <th></th>\n",
       "      <th>id</th>\n",
       "      <th>premium</th>\n",
       "      <th>name</th>\n",
       "      <th>department</th>\n",
       "      <th>has_test</th>\n",
       "      <th>response_letter_required</th>\n",
       "      <th>area</th>\n",
       "      <th>salary</th>\n",
       "      <th>type</th>\n",
       "      <th>address</th>\n",
       "      <th>...</th>\n",
       "      <th>relations</th>\n",
       "      <th>employer</th>\n",
       "      <th>snippet</th>\n",
       "      <th>contacts</th>\n",
       "      <th>schedule</th>\n",
       "      <th>working_days</th>\n",
       "      <th>working_time_intervals</th>\n",
       "      <th>working_time_modes</th>\n",
       "      <th>accept_temporary</th>\n",
       "      <th>skills</th>\n",
       "    </tr>\n",
       "  </thead>\n",
       "  <tbody>\n",
       "    <tr>\n",
       "      <th>0</th>\n",
       "      <td>55415805</td>\n",
       "      <td>False</td>\n",
       "      <td>Менеджер по работе с клиентами</td>\n",
       "      <td>{'id': '3529-3529-stat', 'name': 'Сбер. Начало...</td>\n",
       "      <td>False</td>\n",
       "      <td>False</td>\n",
       "      <td>{'id': '1', 'name': 'Москва', 'url': 'https://...</td>\n",
       "      <td>{'from': 98800, 'to': None, 'currency': 'RUR',...</td>\n",
       "      <td>{'id': 'open', 'name': 'Открытая'}</td>\n",
       "      <td>None</td>\n",
       "      <td>...</td>\n",
       "      <td>[]</td>\n",
       "      <td>{'id': '3529', 'name': 'СБЕР', 'url': 'https:/...</td>\n",
       "      <td>{'requirement': 'Опыт работы консультантом или...</td>\n",
       "      <td>None</td>\n",
       "      <td>{'id': 'fullDay', 'name': 'Полный день'}</td>\n",
       "      <td>[]</td>\n",
       "      <td>[]</td>\n",
       "      <td>[]</td>\n",
       "      <td>False</td>\n",
       "      <td>[]</td>\n",
       "    </tr>\n",
       "    <tr>\n",
       "      <th>1</th>\n",
       "      <td>53361761</td>\n",
       "      <td>False</td>\n",
       "      <td>Клиентский менеджер малого и микробизнеса</td>\n",
       "      <td>{'id': '3529-3529-prof', 'name': 'Сбер для экс...</td>\n",
       "      <td>False</td>\n",
       "      <td>False</td>\n",
       "      <td>{'id': '1', 'name': 'Москва', 'url': 'https://...</td>\n",
       "      <td>{'from': 93900, 'to': None, 'currency': 'RUR',...</td>\n",
       "      <td>{'id': 'open', 'name': 'Открытая'}</td>\n",
       "      <td>None</td>\n",
       "      <td>...</td>\n",
       "      <td>[]</td>\n",
       "      <td>{'id': '3529', 'name': 'СБЕР', 'url': 'https:/...</td>\n",
       "      <td>{'requirement': 'высшее образование (финансы/б...</td>\n",
       "      <td>None</td>\n",
       "      <td>{'id': 'fullDay', 'name': 'Полный день'}</td>\n",
       "      <td>[]</td>\n",
       "      <td>[]</td>\n",
       "      <td>[]</td>\n",
       "      <td>False</td>\n",
       "      <td>[{'name': 'Активные продажи'}, {'name': 'Прове...</td>\n",
       "    </tr>\n",
       "    <tr>\n",
       "      <th>2</th>\n",
       "      <td>55415496</td>\n",
       "      <td>False</td>\n",
       "      <td>Клиентский менеджер прямых продаж</td>\n",
       "      <td>{'id': '3529-3529-stat', 'name': 'Сбер. Начало...</td>\n",
       "      <td>False</td>\n",
       "      <td>False</td>\n",
       "      <td>{'id': '1', 'name': 'Москва', 'url': 'https://...</td>\n",
       "      <td>{'from': 98800, 'to': None, 'currency': 'RUR',...</td>\n",
       "      <td>{'id': 'open', 'name': 'Открытая'}</td>\n",
       "      <td>None</td>\n",
       "      <td>...</td>\n",
       "      <td>[]</td>\n",
       "      <td>{'id': '3529', 'name': 'СБЕР', 'url': 'https:/...</td>\n",
       "      <td>{'requirement': None, 'responsibility': 'Выезж...</td>\n",
       "      <td>None</td>\n",
       "      <td>{'id': 'fullDay', 'name': 'Полный день'}</td>\n",
       "      <td>[]</td>\n",
       "      <td>[]</td>\n",
       "      <td>[]</td>\n",
       "      <td>False</td>\n",
       "      <td>[]</td>\n",
       "    </tr>\n",
       "  </tbody>\n",
       "</table>\n",
       "<p>3 rows × 30 columns</p>\n",
       "</div>"
      ],
      "text/plain": [
       "         id  premium                                       name  \\\n",
       "0  55415805    False             Менеджер по работе с клиентами   \n",
       "1  53361761    False  Клиентский менеджер малого и микробизнеса   \n",
       "2  55415496    False          Клиентский менеджер прямых продаж   \n",
       "\n",
       "                                          department  has_test  \\\n",
       "0  {'id': '3529-3529-stat', 'name': 'Сбер. Начало...     False   \n",
       "1  {'id': '3529-3529-prof', 'name': 'Сбер для экс...     False   \n",
       "2  {'id': '3529-3529-stat', 'name': 'Сбер. Начало...     False   \n",
       "\n",
       "   response_letter_required  \\\n",
       "0                     False   \n",
       "1                     False   \n",
       "2                     False   \n",
       "\n",
       "                                                area  \\\n",
       "0  {'id': '1', 'name': 'Москва', 'url': 'https://...   \n",
       "1  {'id': '1', 'name': 'Москва', 'url': 'https://...   \n",
       "2  {'id': '1', 'name': 'Москва', 'url': 'https://...   \n",
       "\n",
       "                                              salary  \\\n",
       "0  {'from': 98800, 'to': None, 'currency': 'RUR',...   \n",
       "1  {'from': 93900, 'to': None, 'currency': 'RUR',...   \n",
       "2  {'from': 98800, 'to': None, 'currency': 'RUR',...   \n",
       "\n",
       "                                 type address  ... relations  \\\n",
       "0  {'id': 'open', 'name': 'Открытая'}    None  ...        []   \n",
       "1  {'id': 'open', 'name': 'Открытая'}    None  ...        []   \n",
       "2  {'id': 'open', 'name': 'Открытая'}    None  ...        []   \n",
       "\n",
       "                                            employer  \\\n",
       "0  {'id': '3529', 'name': 'СБЕР', 'url': 'https:/...   \n",
       "1  {'id': '3529', 'name': 'СБЕР', 'url': 'https:/...   \n",
       "2  {'id': '3529', 'name': 'СБЕР', 'url': 'https:/...   \n",
       "\n",
       "                                             snippet contacts  \\\n",
       "0  {'requirement': 'Опыт работы консультантом или...     None   \n",
       "1  {'requirement': 'высшее образование (финансы/б...     None   \n",
       "2  {'requirement': None, 'responsibility': 'Выезж...     None   \n",
       "\n",
       "                                   schedule working_days  \\\n",
       "0  {'id': 'fullDay', 'name': 'Полный день'}           []   \n",
       "1  {'id': 'fullDay', 'name': 'Полный день'}           []   \n",
       "2  {'id': 'fullDay', 'name': 'Полный день'}           []   \n",
       "\n",
       "  working_time_intervals working_time_modes accept_temporary  \\\n",
       "0                     []                 []            False   \n",
       "1                     []                 []            False   \n",
       "2                     []                 []            False   \n",
       "\n",
       "                                              skills  \n",
       "0                                                 []  \n",
       "1  [{'name': 'Активные продажи'}, {'name': 'Прове...  \n",
       "2                                                 []  \n",
       "\n",
       "[3 rows x 30 columns]"
      ]
     },
     "execution_count": 281,
     "metadata": {},
     "output_type": "execute_result"
    }
   ],
   "source": [
    "df.head(3)"
   ]
  },
  {
   "cell_type": "markdown",
   "metadata": {},
   "source": [
    "### Переведите даты публикаций в datetime"
   ]
  },
  {
   "cell_type": "code",
   "execution_count": 282,
   "metadata": {},
   "outputs": [
    {
     "data": {
      "text/plain": [
       "0    2022-07-06T13:45:50+0300\n",
       "1    2022-06-27T12:47:08+0300\n",
       "2    2022-06-29T19:44:36+0300\n",
       "Name: published_at, dtype: object"
      ]
     },
     "execution_count": 282,
     "metadata": {},
     "output_type": "execute_result"
    }
   ],
   "source": [
    "# Пока у поля \"Дата публикации\" тип object\n",
    "\n",
    "df['published_at'].head(3)"
   ]
  },
  {
   "cell_type": "code",
   "execution_count": 283,
   "metadata": {},
   "outputs": [],
   "source": [
    "# переведем дату в формат datetime\n",
    "\n",
    "df['published_at'] = pd.to_datetime(df['published_at'])"
   ]
  },
  {
   "cell_type": "code",
   "execution_count": 284,
   "metadata": {},
   "outputs": [
    {
     "data": {
      "text/plain": [
       "0   2022-07-06 13:45:50+03:00\n",
       "1   2022-06-27 12:47:08+03:00\n",
       "2   2022-06-29 19:44:36+03:00\n",
       "Name: published_at, dtype: datetime64[ns, pytz.FixedOffset(180)]"
      ]
     },
     "execution_count": 284,
     "metadata": {},
     "output_type": "execute_result"
    }
   ],
   "source": [
    "# Теперь у поля \"Дата публикации\" тип datetime64\n",
    "\n",
    "df['published_at'].head(3)"
   ]
  },
  {
   "cell_type": "markdown",
   "metadata": {},
   "source": [
    "### Постройте график опубликованных вакансий по датам"
   ]
  },
  {
   "cell_type": "code",
   "execution_count": 285,
   "metadata": {},
   "outputs": [
    {
     "data": {
      "text/plain": [
       "<AxesSubplot:>"
      ]
     },
     "execution_count": 285,
     "metadata": {},
     "output_type": "execute_result"
    },
    {
     "data": {
      "image/png": "[encoded data removed]",
      "text/plain": [
       "<Figure size 1080x360 with 1 Axes>"
      ]
     },
     "metadata": {
      "needs_background": "light"
     },
     "output_type": "display_data"
    }
   ],
   "source": [
    "df['published_at'].dt.date.hist(bins=30, figsize=(15, 5), xrot=90)"
   ]
  },
  {
   "cell_type": "markdown",
   "metadata": {},
   "source": [
    "### Переведите даты в дни недели, и определите день недели, в который больше всего публикуют вакансий"
   ]
  },
  {
   "cell_type": "code",
   "execution_count": 286,
   "metadata": {
    "pycharm": {
     "name": "#%%\n"
    }
   },
   "outputs": [],
   "source": [
    "df['day_of_week'] = df['published_at'].dt.day_of_week"
   ]
  },
  {
   "cell_type": "code",
   "execution_count": 287,
   "metadata": {},
   "outputs": [
    {
     "data": {
      "text/plain": [
       "<AxesSubplot:>"
      ]
     },
     "execution_count": 287,
     "metadata": {},
     "output_type": "execute_result"
    },
    {
     "data": {
      "image/png": "[encoded data removed]",
      "text/plain": [
       "<Figure size 432x288 with 1 Axes>"
      ]
     },
     "metadata": {
      "needs_background": "light"
     },
     "output_type": "display_data"
    }
   ],
   "source": [
    "df['day_of_week'].hist(bins=7)"
   ]
  },
  {
   "cell_type": "code",
   "execution_count": 288,
   "metadata": {},
   "outputs": [
    {
     "data": {
      "text/plain": [
       "1"
      ]
     },
     "execution_count": 288,
     "metadata": {},
     "output_type": "execute_result"
    }
   ],
   "source": [
    "df.groupby('day_of_week').size().idxmax()"
   ]
  },
  {
   "cell_type": "markdown",
   "metadata": {},
   "source": [
    "Максимальное количество вакансий публикуется во вторник."
   ]
  },
  {
   "cell_type": "markdown",
   "metadata": {},
   "source": [
    "### Найдите те вакансии с использованием python, которые вам интересны"
   ]
  },
  {
   "cell_type": "code",
   "execution_count": 289,
   "metadata": {},
   "outputs": [
    {
     "data": {
      "text/html": [
       "<div>\n",
       "<style scoped>\n",
       "    .dataframe tbody tr th:only-of-type {\n",
       "        vertical-align: middle;\n",
       "    }\n",
       "\n",
       "    .dataframe tbody tr th {\n",
       "        vertical-align: top;\n",
       "    }\n",
       "\n",
       "    .dataframe thead th {\n",
       "        text-align: right;\n",
       "    }\n",
       "</style>\n",
       "<table border=\"1\" class=\"dataframe\">\n",
       "  <thead>\n",
       "    <tr style=\"text-align: right;\">\n",
       "      <th></th>\n",
       "      <th>id</th>\n",
       "      <th>premium</th>\n",
       "      <th>name</th>\n",
       "      <th>department</th>\n",
       "      <th>has_test</th>\n",
       "      <th>response_letter_required</th>\n",
       "      <th>area</th>\n",
       "      <th>salary</th>\n",
       "      <th>type</th>\n",
       "      <th>address</th>\n",
       "      <th>...</th>\n",
       "      <th>employer</th>\n",
       "      <th>snippet</th>\n",
       "      <th>contacts</th>\n",
       "      <th>schedule</th>\n",
       "      <th>working_days</th>\n",
       "      <th>working_time_intervals</th>\n",
       "      <th>working_time_modes</th>\n",
       "      <th>accept_temporary</th>\n",
       "      <th>skills</th>\n",
       "      <th>day_of_week</th>\n",
       "    </tr>\n",
       "  </thead>\n",
       "  <tbody>\n",
       "    <tr>\n",
       "      <th>0</th>\n",
       "      <td>55415805</td>\n",
       "      <td>False</td>\n",
       "      <td>Менеджер по работе с клиентами</td>\n",
       "      <td>{'id': '3529-3529-stat', 'name': 'Сбер. Начало...</td>\n",
       "      <td>False</td>\n",
       "      <td>False</td>\n",
       "      <td>{'id': '1', 'name': 'Москва', 'url': 'https://...</td>\n",
       "      <td>{'from': 98800, 'to': None, 'currency': 'RUR',...</td>\n",
       "      <td>{'id': 'open', 'name': 'Открытая'}</td>\n",
       "      <td>None</td>\n",
       "      <td>...</td>\n",
       "      <td>{'id': '3529', 'name': 'СБЕР', 'url': 'https:/...</td>\n",
       "      <td>{'requirement': 'Опыт работы консультантом или...</td>\n",
       "      <td>None</td>\n",
       "      <td>{'id': 'fullDay', 'name': 'Полный день'}</td>\n",
       "      <td>[]</td>\n",
       "      <td>[]</td>\n",
       "      <td>[]</td>\n",
       "      <td>False</td>\n",
       "      <td>[]</td>\n",
       "      <td>2</td>\n",
       "    </tr>\n",
       "    <tr>\n",
       "      <th>1</th>\n",
       "      <td>53361761</td>\n",
       "      <td>False</td>\n",
       "      <td>Клиентский менеджер малого и микробизнеса</td>\n",
       "      <td>{'id': '3529-3529-prof', 'name': 'Сбер для экс...</td>\n",
       "      <td>False</td>\n",
       "      <td>False</td>\n",
       "      <td>{'id': '1', 'name': 'Москва', 'url': 'https://...</td>\n",
       "      <td>{'from': 93900, 'to': None, 'currency': 'RUR',...</td>\n",
       "      <td>{'id': 'open', 'name': 'Открытая'}</td>\n",
       "      <td>None</td>\n",
       "      <td>...</td>\n",
       "      <td>{'id': '3529', 'name': 'СБЕР', 'url': 'https:/...</td>\n",
       "      <td>{'requirement': 'высшее образование (финансы/б...</td>\n",
       "      <td>None</td>\n",
       "      <td>{'id': 'fullDay', 'name': 'Полный день'}</td>\n",
       "      <td>[]</td>\n",
       "      <td>[]</td>\n",
       "      <td>[]</td>\n",
       "      <td>False</td>\n",
       "      <td>[Активные продажи, Проведение презентаций, При...</td>\n",
       "      <td>0</td>\n",
       "    </tr>\n",
       "    <tr>\n",
       "      <th>2</th>\n",
       "      <td>55415496</td>\n",
       "      <td>False</td>\n",
       "      <td>Клиентский менеджер прямых продаж</td>\n",
       "      <td>{'id': '3529-3529-stat', 'name': 'Сбер. Начало...</td>\n",
       "      <td>False</td>\n",
       "      <td>False</td>\n",
       "      <td>{'id': '1', 'name': 'Москва', 'url': 'https://...</td>\n",
       "      <td>{'from': 98800, 'to': None, 'currency': 'RUR',...</td>\n",
       "      <td>{'id': 'open', 'name': 'Открытая'}</td>\n",
       "      <td>None</td>\n",
       "      <td>...</td>\n",
       "      <td>{'id': '3529', 'name': 'СБЕР', 'url': 'https:/...</td>\n",
       "      <td>{'requirement': None, 'responsibility': 'Выезж...</td>\n",
       "      <td>None</td>\n",
       "      <td>{'id': 'fullDay', 'name': 'Полный день'}</td>\n",
       "      <td>[]</td>\n",
       "      <td>[]</td>\n",
       "      <td>[]</td>\n",
       "      <td>False</td>\n",
       "      <td>[]</td>\n",
       "      <td>2</td>\n",
       "    </tr>\n",
       "    <tr>\n",
       "      <th>3</th>\n",
       "      <td>45790891</td>\n",
       "      <td>False</td>\n",
       "      <td>Менеджер по работе с ключевыми клиентами малог...</td>\n",
       "      <td>{'id': '3529-3529-prof', 'name': 'Сбер для экс...</td>\n",
       "      <td>False</td>\n",
       "      <td>False</td>\n",
       "      <td>{'id': '1', 'name': 'Москва', 'url': 'https://...</td>\n",
       "      <td>{'from': 119300, 'to': None, 'currency': 'RUR'...</td>\n",
       "      <td>{'id': 'open', 'name': 'Открытая'}</td>\n",
       "      <td>None</td>\n",
       "      <td>...</td>\n",
       "      <td>{'id': '3529', 'name': 'СБЕР', 'url': 'https:/...</td>\n",
       "      <td>{'requirement': 'Высшее или неполное высшее об...</td>\n",
       "      <td>None</td>\n",
       "      <td>{'id': 'fullDay', 'name': 'Полный день'}</td>\n",
       "      <td>[]</td>\n",
       "      <td>[]</td>\n",
       "      <td>[]</td>\n",
       "      <td>False</td>\n",
       "      <td>[Прямые продажи, Финансовый анализ, Клиентоори...</td>\n",
       "      <td>3</td>\n",
       "    </tr>\n",
       "    <tr>\n",
       "      <th>4</th>\n",
       "      <td>45381514</td>\n",
       "      <td>False</td>\n",
       "      <td>Старший менеджер по привлечению корпоративных ...</td>\n",
       "      <td>{'id': '3529-3529-prof', 'name': 'Сбер для экс...</td>\n",
       "      <td>False</td>\n",
       "      <td>False</td>\n",
       "      <td>{'id': '1', 'name': 'Москва', 'url': 'https://...</td>\n",
       "      <td>{'from': 146400, 'to': None, 'currency': 'RUR'...</td>\n",
       "      <td>{'id': 'open', 'name': 'Открытая'}</td>\n",
       "      <td>None</td>\n",
       "      <td>...</td>\n",
       "      <td>{'id': '3529', 'name': 'СБЕР', 'url': 'https:/...</td>\n",
       "      <td>{'requirement': 'Высшее или неполное высшее об...</td>\n",
       "      <td>None</td>\n",
       "      <td>{'id': 'fullDay', 'name': 'Полный день'}</td>\n",
       "      <td>[]</td>\n",
       "      <td>[]</td>\n",
       "      <td>[]</td>\n",
       "      <td>False</td>\n",
       "      <td>[Холодные продажи, Поиск и привлечение клиенто...</td>\n",
       "      <td>3</td>\n",
       "    </tr>\n",
       "  </tbody>\n",
       "</table>\n",
       "<p>5 rows × 31 columns</p>\n",
       "</div>"
      ],
      "text/plain": [
       "         id  premium                                               name  \\\n",
       "0  55415805    False                     Менеджер по работе с клиентами   \n",
       "1  53361761    False          Клиентский менеджер малого и микробизнеса   \n",
       "2  55415496    False                  Клиентский менеджер прямых продаж   \n",
       "3  45790891    False  Менеджер по работе с ключевыми клиентами малог...   \n",
       "4  45381514    False  Старший менеджер по привлечению корпоративных ...   \n",
       "\n",
       "                                          department  has_test  \\\n",
       "0  {'id': '3529-3529-stat', 'name': 'Сбер. Начало...     False   \n",
       "1  {'id': '3529-3529-prof', 'name': 'Сбер для экс...     False   \n",
       "2  {'id': '3529-3529-stat', 'name': 'Сбер. Начало...     False   \n",
       "3  {'id': '3529-3529-prof', 'name': 'Сбер для экс...     False   \n",
       "4  {'id': '3529-3529-prof', 'name': 'Сбер для экс...     False   \n",
       "\n",
       "   response_letter_required  \\\n",
       "0                     False   \n",
       "1                     False   \n",
       "2                     False   \n",
       "3                     False   \n",
       "4                     False   \n",
       "\n",
       "                                                area  \\\n",
       "0  {'id': '1', 'name': 'Москва', 'url': 'https://...   \n",
       "1  {'id': '1', 'name': 'Москва', 'url': 'https://...   \n",
       "2  {'id': '1', 'name': 'Москва', 'url': 'https://...   \n",
       "3  {'id': '1', 'name': 'Москва', 'url': 'https://...   \n",
       "4  {'id': '1', 'name': 'Москва', 'url': 'https://...   \n",
       "\n",
       "                                              salary  \\\n",
       "0  {'from': 98800, 'to': None, 'currency': 'RUR',...   \n",
       "1  {'from': 93900, 'to': None, 'currency': 'RUR',...   \n",
       "2  {'from': 98800, 'to': None, 'currency': 'RUR',...   \n",
       "3  {'from': 119300, 'to': None, 'currency': 'RUR'...   \n",
       "4  {'from': 146400, 'to': None, 'currency': 'RUR'...   \n",
       "\n",
       "                                 type address  ...  \\\n",
       "0  {'id': 'open', 'name': 'Открытая'}    None  ...   \n",
       "1  {'id': 'open', 'name': 'Открытая'}    None  ...   \n",
       "2  {'id': 'open', 'name': 'Открытая'}    None  ...   \n",
       "3  {'id': 'open', 'name': 'Открытая'}    None  ...   \n",
       "4  {'id': 'open', 'name': 'Открытая'}    None  ...   \n",
       "\n",
       "                                            employer  \\\n",
       "0  {'id': '3529', 'name': 'СБЕР', 'url': 'https:/...   \n",
       "1  {'id': '3529', 'name': 'СБЕР', 'url': 'https:/...   \n",
       "2  {'id': '3529', 'name': 'СБЕР', 'url': 'https:/...   \n",
       "3  {'id': '3529', 'name': 'СБЕР', 'url': 'https:/...   \n",
       "4  {'id': '3529', 'name': 'СБЕР', 'url': 'https:/...   \n",
       "\n",
       "                                             snippet contacts  \\\n",
       "0  {'requirement': 'Опыт работы консультантом или...     None   \n",
       "1  {'requirement': 'высшее образование (финансы/б...     None   \n",
       "2  {'requirement': None, 'responsibility': 'Выезж...     None   \n",
       "3  {'requirement': 'Высшее или неполное высшее об...     None   \n",
       "4  {'requirement': 'Высшее или неполное высшее об...     None   \n",
       "\n",
       "                                   schedule  working_days  \\\n",
       "0  {'id': 'fullDay', 'name': 'Полный день'}            []   \n",
       "1  {'id': 'fullDay', 'name': 'Полный день'}            []   \n",
       "2  {'id': 'fullDay', 'name': 'Полный день'}            []   \n",
       "3  {'id': 'fullDay', 'name': 'Полный день'}            []   \n",
       "4  {'id': 'fullDay', 'name': 'Полный день'}            []   \n",
       "\n",
       "  working_time_intervals working_time_modes accept_temporary  \\\n",
       "0                     []                 []            False   \n",
       "1                     []                 []            False   \n",
       "2                     []                 []            False   \n",
       "3                     []                 []            False   \n",
       "4                     []                 []            False   \n",
       "\n",
       "                                              skills day_of_week  \n",
       "0                                                 []           2  \n",
       "1  [Активные продажи, Проведение презентаций, При...           0  \n",
       "2                                                 []           2  \n",
       "3  [Прямые продажи, Финансовый анализ, Клиентоори...           3  \n",
       "4  [Холодные продажи, Поиск и привлечение клиенто...           3  \n",
       "\n",
       "[5 rows x 31 columns]"
      ]
     },
     "execution_count": 289,
     "metadata": {},
     "output_type": "execute_result"
    }
   ],
   "source": [
    "# Переведем все навыки из словаря в список\n",
    "\n",
    "df.skills = df.skills.apply(lambda x: np.reshape([list(el.values()) for el in x],len(x) ))\n",
    "df.head()"
   ]
  },
  {
   "cell_type": "code",
   "execution_count": 290,
   "metadata": {},
   "outputs": [
    {
     "name": "stdout",
     "output_type": "stream",
     "text": [
      "Всего найдено 148 вакансий с использованием Python\n"
     ]
    }
   ],
   "source": [
    "python_vacs = df[df.skills.apply(lambda x: 'python' in map(lambda y: y.lower(), x))]\n",
    "\n",
    "print(f'Всего найдено {python_vacs.shape[0]} вакансий с использованием Python')"
   ]
  },
  {
   "cell_type": "code",
   "execution_count": 292,
   "metadata": {
    "scrolled": true
   },
   "outputs": [
    {
     "data": {
      "text/html": [
       "<div>\n",
       "<style scoped>\n",
       "    .dataframe tbody tr th:only-of-type {\n",
       "        vertical-align: middle;\n",
       "    }\n",
       "\n",
       "    .dataframe tbody tr th {\n",
       "        vertical-align: top;\n",
       "    }\n",
       "\n",
       "    .dataframe thead th {\n",
       "        text-align: right;\n",
       "    }\n",
       "</style>\n",
       "<table border=\"1\" class=\"dataframe\">\n",
       "  <thead>\n",
       "    <tr style=\"text-align: right;\">\n",
       "      <th></th>\n",
       "      <th>id</th>\n",
       "      <th>premium</th>\n",
       "      <th>name</th>\n",
       "      <th>department</th>\n",
       "      <th>has_test</th>\n",
       "      <th>response_letter_required</th>\n",
       "      <th>area</th>\n",
       "      <th>salary</th>\n",
       "      <th>type</th>\n",
       "      <th>address</th>\n",
       "      <th>...</th>\n",
       "      <th>employer</th>\n",
       "      <th>snippet</th>\n",
       "      <th>contacts</th>\n",
       "      <th>schedule</th>\n",
       "      <th>working_days</th>\n",
       "      <th>working_time_intervals</th>\n",
       "      <th>working_time_modes</th>\n",
       "      <th>accept_temporary</th>\n",
       "      <th>skills</th>\n",
       "      <th>day_of_week</th>\n",
       "    </tr>\n",
       "  </thead>\n",
       "  <tbody>\n",
       "    <tr>\n",
       "      <th>102</th>\n",
       "      <td>55138654</td>\n",
       "      <td>False</td>\n",
       "      <td>Data Analyst (Рекомендательная система)</td>\n",
       "      <td>{'id': '3529-3529-it', 'name': 'Сбер. IT'}</td>\n",
       "      <td>False</td>\n",
       "      <td>False</td>\n",
       "      <td>{'id': '1', 'name': 'Москва', 'url': 'https://...</td>\n",
       "      <td>None</td>\n",
       "      <td>{'id': 'open', 'name': 'Открытая'}</td>\n",
       "      <td>None</td>\n",
       "      <td>...</td>\n",
       "      <td>{'id': '3529', 'name': 'СБЕР', 'url': 'https:/...</td>\n",
       "      <td>{'requirement': 'Мотивация учиться и развивать...</td>\n",
       "      <td>None</td>\n",
       "      <td>{'id': 'fullDay', 'name': 'Полный день'}</td>\n",
       "      <td>[]</td>\n",
       "      <td>[]</td>\n",
       "      <td>[]</td>\n",
       "      <td>False</td>\n",
       "      <td>[Python, SQL, PostgreSQL, Git, Atlassian Jira]</td>\n",
       "      <td>4</td>\n",
       "    </tr>\n",
       "    <tr>\n",
       "      <th>144</th>\n",
       "      <td>51784863</td>\n",
       "      <td>False</td>\n",
       "      <td>Data Scientist (SberDevices)</td>\n",
       "      <td>{'id': '3529-3529-it', 'name': 'Сбер. IT'}</td>\n",
       "      <td>False</td>\n",
       "      <td>False</td>\n",
       "      <td>{'id': '1', 'name': 'Москва', 'url': 'https://...</td>\n",
       "      <td>None</td>\n",
       "      <td>{'id': 'open', 'name': 'Открытая'}</td>\n",
       "      <td>{'city': 'Москва', 'street': 'Кутузовский прос...</td>\n",
       "      <td>...</td>\n",
       "      <td>{'id': '3529', 'name': 'СБЕР', 'url': 'https:/...</td>\n",
       "      <td>{'requirement': 'Глубокое понимание нейросетев...</td>\n",
       "      <td>None</td>\n",
       "      <td>{'id': 'fullDay', 'name': 'Полный день'}</td>\n",
       "      <td>[]</td>\n",
       "      <td>[]</td>\n",
       "      <td>[]</td>\n",
       "      <td>False</td>\n",
       "      <td>[PyTorch, Tensorflow, Python, Deep Learning, NLP]</td>\n",
       "      <td>3</td>\n",
       "    </tr>\n",
       "    <tr>\n",
       "      <th>153</th>\n",
       "      <td>66232494</td>\n",
       "      <td>False</td>\n",
       "      <td>Data scientist</td>\n",
       "      <td>{'id': '3529-3529-it', 'name': 'Сбер. IT'}</td>\n",
       "      <td>False</td>\n",
       "      <td>False</td>\n",
       "      <td>{'id': '1', 'name': 'Москва', 'url': 'https://...</td>\n",
       "      <td>None</td>\n",
       "      <td>{'id': 'open', 'name': 'Открытая'}</td>\n",
       "      <td>None</td>\n",
       "      <td>...</td>\n",
       "      <td>{'id': '3529', 'name': 'СБЕР', 'url': 'https:/...</td>\n",
       "      <td>{'requirement': 'Знание подходов к тестировани...</td>\n",
       "      <td>None</td>\n",
       "      <td>{'id': 'fullDay', 'name': 'Полный день'}</td>\n",
       "      <td>[]</td>\n",
       "      <td>[]</td>\n",
       "      <td>[]</td>\n",
       "      <td>False</td>\n",
       "      <td>[Python, Английский язык, Numpy, SQL, Linux]</td>\n",
       "      <td>1</td>\n",
       "    </tr>\n",
       "  </tbody>\n",
       "</table>\n",
       "<p>3 rows × 31 columns</p>\n",
       "</div>"
      ],
      "text/plain": [
       "           id  premium                                     name  \\\n",
       "102  55138654    False  Data Analyst (Рекомендательная система)   \n",
       "144  51784863    False             Data Scientist (SberDevices)   \n",
       "153  66232494    False                           Data scientist   \n",
       "\n",
       "                                     department  has_test  \\\n",
       "102  {'id': '3529-3529-it', 'name': 'Сбер. IT'}     False   \n",
       "144  {'id': '3529-3529-it', 'name': 'Сбер. IT'}     False   \n",
       "153  {'id': '3529-3529-it', 'name': 'Сбер. IT'}     False   \n",
       "\n",
       "     response_letter_required  \\\n",
       "102                     False   \n",
       "144                     False   \n",
       "153                     False   \n",
       "\n",
       "                                                  area salary  \\\n",
       "102  {'id': '1', 'name': 'Москва', 'url': 'https://...   None   \n",
       "144  {'id': '1', 'name': 'Москва', 'url': 'https://...   None   \n",
       "153  {'id': '1', 'name': 'Москва', 'url': 'https://...   None   \n",
       "\n",
       "                                   type  \\\n",
       "102  {'id': 'open', 'name': 'Открытая'}   \n",
       "144  {'id': 'open', 'name': 'Открытая'}   \n",
       "153  {'id': 'open', 'name': 'Открытая'}   \n",
       "\n",
       "                                               address  ...  \\\n",
       "102                                               None  ...   \n",
       "144  {'city': 'Москва', 'street': 'Кутузовский прос...  ...   \n",
       "153                                               None  ...   \n",
       "\n",
       "                                              employer  \\\n",
       "102  {'id': '3529', 'name': 'СБЕР', 'url': 'https:/...   \n",
       "144  {'id': '3529', 'name': 'СБЕР', 'url': 'https:/...   \n",
       "153  {'id': '3529', 'name': 'СБЕР', 'url': 'https:/...   \n",
       "\n",
       "                                               snippet contacts  \\\n",
       "102  {'requirement': 'Мотивация учиться и развивать...     None   \n",
       "144  {'requirement': 'Глубокое понимание нейросетев...     None   \n",
       "153  {'requirement': 'Знание подходов к тестировани...     None   \n",
       "\n",
       "                                     schedule  working_days  \\\n",
       "102  {'id': 'fullDay', 'name': 'Полный день'}            []   \n",
       "144  {'id': 'fullDay', 'name': 'Полный день'}            []   \n",
       "153  {'id': 'fullDay', 'name': 'Полный день'}            []   \n",
       "\n",
       "    working_time_intervals working_time_modes accept_temporary  \\\n",
       "102                     []                 []            False   \n",
       "144                     []                 []            False   \n",
       "153                     []                 []            False   \n",
       "\n",
       "                                                skills day_of_week  \n",
       "102     [Python, SQL, PostgreSQL, Git, Atlassian Jira]           4  \n",
       "144  [PyTorch, Tensorflow, Python, Deep Learning, NLP]           3  \n",
       "153       [Python, Английский язык, Numpy, SQL, Linux]           1  \n",
       "\n",
       "[3 rows x 31 columns]"
      ]
     },
     "execution_count": 292,
     "metadata": {},
     "output_type": "execute_result"
    }
   ],
   "source": [
    "# Найдем вакансии data analyst и data scientist\n",
    "interested_vacs = python_vacs[\n",
    "((python_vacs.name.str.lower().str.find('data analyst') > -1) | \\\n",
    "(python_vacs.name.str.lower().str.find('data аналитик') > -1) | \\\n",
    "(python_vacs.name.str.lower().str.find('аналитик данных') > -1) | \\\n",
    "(python_vacs.name.str.lower().str.find('data scientist') > -1)) & \\\n",
    "(python_vacs.name.str.lower().str.find('стажер') == -1)\n",
    "]\n",
    "\n",
    "interested_vacs.head(3)"
   ]
  },
  {
   "cell_type": "code",
   "execution_count": 293,
   "metadata": {},
   "outputs": [
    {
     "name": "stdout",
     "output_type": "stream",
     "text": [
      "Всего найдено 21 интересных вакансий с использованием Python\n"
     ]
    }
   ],
   "source": [
    "print(f'Всего найдено {interested_vacs.shape[0]} интересных вакансий с использованием Python')"
   ]
  },
  {
   "cell_type": "markdown",
   "metadata": {},
   "source": [
    "### Определите по полю skills какие навыки больше всего востребованы для этих вакансий"
   ]
  },
  {
   "cell_type": "code",
   "execution_count": 294,
   "metadata": {},
   "outputs": [],
   "source": [
    "from functools import reduce\n",
    "\n",
    "all_skills = pd.Series(reduce(lambda x, y: x+y, interested_vacs.skills.apply(list)))"
   ]
  },
  {
   "cell_type": "code",
   "execution_count": 295,
   "metadata": {},
   "outputs": [
    {
     "data": {
      "text/plain": [
       "Python                   21\n",
       "SQL                      13\n",
       "Hadoop                    6\n",
       "Spark                     5\n",
       "Linux                     5\n",
       "SCALA                     4\n",
       "ML                        3\n",
       "NLP                       3\n",
       "Английский язык           3\n",
       "Numpy                     3\n",
       "Pandas                    3\n",
       "Hive                      2\n",
       "Data Mining               2\n",
       "Анализ данных             2\n",
       "Математический анализ     2\n",
       "Deep Learning             2\n",
       "Tensorflow                2\n",
       "PyTorch                   2\n",
       "Atlassian Jira            2\n",
       "Git                       2\n",
       "dtype: int64"
      ]
     },
     "execution_count": 295,
     "metadata": {},
     "output_type": "execute_result"
    }
   ],
   "source": [
    "# Наиболее востребованные навыки для интересных вакансий\n",
    "\n",
    "need_skills = all_skills.value_counts()[all_skills.value_counts() > 1]\n",
    "need_skills"
   ]
  },
  {
   "cell_type": "code",
   "execution_count": 297,
   "metadata": {},
   "outputs": [
    {
     "data": {
      "text/plain": [
       "<AxesSubplot:>"
      ]
     },
     "execution_count": 297,
     "metadata": {},
     "output_type": "execute_result"
    },
    {
     "data": {
      "image/png": "[encoded data removed]",
      "text/plain": [
       "<Figure size 864x360 with 1 Axes>"
      ]
     },
     "metadata": {
      "needs_background": "light"
     },
     "output_type": "display_data"
    }
   ],
   "source": [
    "need_skills.plot(kind='bar', figsize=(12,5))"
   ]
  },
  {
   "cell_type": "markdown",
   "metadata": {},
   "source": [
    "### Постройте график наиболее востребованных навыков для аналитика данных"
   ]
  },
  {
   "cell_type": "code",
   "execution_count": 299,
   "metadata": {},
   "outputs": [
    {
     "data": {
      "text/html": [
       "<div>\n",
       "<style scoped>\n",
       "    .dataframe tbody tr th:only-of-type {\n",
       "        vertical-align: middle;\n",
       "    }\n",
       "\n",
       "    .dataframe tbody tr th {\n",
       "        vertical-align: top;\n",
       "    }\n",
       "\n",
       "    .dataframe thead th {\n",
       "        text-align: right;\n",
       "    }\n",
       "</style>\n",
       "<table border=\"1\" class=\"dataframe\">\n",
       "  <thead>\n",
       "    <tr style=\"text-align: right;\">\n",
       "      <th></th>\n",
       "      <th>id</th>\n",
       "      <th>premium</th>\n",
       "      <th>name</th>\n",
       "      <th>department</th>\n",
       "      <th>has_test</th>\n",
       "      <th>response_letter_required</th>\n",
       "      <th>area</th>\n",
       "      <th>salary</th>\n",
       "      <th>type</th>\n",
       "      <th>address</th>\n",
       "      <th>...</th>\n",
       "      <th>employer</th>\n",
       "      <th>snippet</th>\n",
       "      <th>contacts</th>\n",
       "      <th>schedule</th>\n",
       "      <th>working_days</th>\n",
       "      <th>working_time_intervals</th>\n",
       "      <th>working_time_modes</th>\n",
       "      <th>accept_temporary</th>\n",
       "      <th>skills</th>\n",
       "      <th>day_of_week</th>\n",
       "    </tr>\n",
       "  </thead>\n",
       "  <tbody>\n",
       "    <tr>\n",
       "      <th>34</th>\n",
       "      <td>67494236</td>\n",
       "      <td>False</td>\n",
       "      <td>Junior data analyst</td>\n",
       "      <td>{'id': '3529-3529-prof', 'name': 'Сбер для экс...</td>\n",
       "      <td>False</td>\n",
       "      <td>False</td>\n",
       "      <td>{'id': '1', 'name': 'Москва', 'url': 'https://...</td>\n",
       "      <td>None</td>\n",
       "      <td>{'id': 'open', 'name': 'Открытая'}</td>\n",
       "      <td>None</td>\n",
       "      <td>...</td>\n",
       "      <td>{'id': '3529', 'name': 'СБЕР', 'url': 'https:/...</td>\n",
       "      <td>{'requirement': 'Знания принципов работы BigDa...</td>\n",
       "      <td>None</td>\n",
       "      <td>{'id': 'fullDay', 'name': 'Полный день'}</td>\n",
       "      <td>[]</td>\n",
       "      <td>[]</td>\n",
       "      <td>[]</td>\n",
       "      <td>False</td>\n",
       "      <td>[]</td>\n",
       "      <td>1</td>\n",
       "    </tr>\n",
       "    <tr>\n",
       "      <th>69</th>\n",
       "      <td>67346866</td>\n",
       "      <td>False</td>\n",
       "      <td>Аналитик данных (campaign analyst)</td>\n",
       "      <td>{'id': '3529-3529-prof', 'name': 'Сбер для экс...</td>\n",
       "      <td>False</td>\n",
       "      <td>False</td>\n",
       "      <td>{'id': '1', 'name': 'Москва', 'url': 'https://...</td>\n",
       "      <td>None</td>\n",
       "      <td>{'id': 'open', 'name': 'Открытая'}</td>\n",
       "      <td>None</td>\n",
       "      <td>...</td>\n",
       "      <td>{'id': '3529', 'name': 'СБЕР', 'url': 'https:/...</td>\n",
       "      <td>{'requirement': 'Знание SQL (запросы ко множес...</td>\n",
       "      <td>None</td>\n",
       "      <td>{'id': 'fullDay', 'name': 'Полный день'}</td>\n",
       "      <td>[]</td>\n",
       "      <td>[]</td>\n",
       "      <td>[]</td>\n",
       "      <td>False</td>\n",
       "      <td>[]</td>\n",
       "      <td>2</td>\n",
       "    </tr>\n",
       "    <tr>\n",
       "      <th>102</th>\n",
       "      <td>55138654</td>\n",
       "      <td>False</td>\n",
       "      <td>Data Analyst (Рекомендательная система)</td>\n",
       "      <td>{'id': '3529-3529-it', 'name': 'Сбер. IT'}</td>\n",
       "      <td>False</td>\n",
       "      <td>False</td>\n",
       "      <td>{'id': '1', 'name': 'Москва', 'url': 'https://...</td>\n",
       "      <td>None</td>\n",
       "      <td>{'id': 'open', 'name': 'Открытая'}</td>\n",
       "      <td>None</td>\n",
       "      <td>...</td>\n",
       "      <td>{'id': '3529', 'name': 'СБЕР', 'url': 'https:/...</td>\n",
       "      <td>{'requirement': 'Мотивация учиться и развивать...</td>\n",
       "      <td>None</td>\n",
       "      <td>{'id': 'fullDay', 'name': 'Полный день'}</td>\n",
       "      <td>[]</td>\n",
       "      <td>[]</td>\n",
       "      <td>[]</td>\n",
       "      <td>False</td>\n",
       "      <td>[Python, SQL, PostgreSQL, Git, Atlassian Jira]</td>\n",
       "      <td>4</td>\n",
       "    </tr>\n",
       "  </tbody>\n",
       "</table>\n",
       "<p>3 rows × 31 columns</p>\n",
       "</div>"
      ],
      "text/plain": [
       "           id  premium                                     name  \\\n",
       "34   67494236    False                      Junior data analyst   \n",
       "69   67346866    False       Аналитик данных (campaign analyst)   \n",
       "102  55138654    False  Data Analyst (Рекомендательная система)   \n",
       "\n",
       "                                            department  has_test  \\\n",
       "34   {'id': '3529-3529-prof', 'name': 'Сбер для экс...     False   \n",
       "69   {'id': '3529-3529-prof', 'name': 'Сбер для экс...     False   \n",
       "102         {'id': '3529-3529-it', 'name': 'Сбер. IT'}     False   \n",
       "\n",
       "     response_letter_required  \\\n",
       "34                      False   \n",
       "69                      False   \n",
       "102                     False   \n",
       "\n",
       "                                                  area salary  \\\n",
       "34   {'id': '1', 'name': 'Москва', 'url': 'https://...   None   \n",
       "69   {'id': '1', 'name': 'Москва', 'url': 'https://...   None   \n",
       "102  {'id': '1', 'name': 'Москва', 'url': 'https://...   None   \n",
       "\n",
       "                                   type address  ...  \\\n",
       "34   {'id': 'open', 'name': 'Открытая'}    None  ...   \n",
       "69   {'id': 'open', 'name': 'Открытая'}    None  ...   \n",
       "102  {'id': 'open', 'name': 'Открытая'}    None  ...   \n",
       "\n",
       "                                              employer  \\\n",
       "34   {'id': '3529', 'name': 'СБЕР', 'url': 'https:/...   \n",
       "69   {'id': '3529', 'name': 'СБЕР', 'url': 'https:/...   \n",
       "102  {'id': '3529', 'name': 'СБЕР', 'url': 'https:/...   \n",
       "\n",
       "                                               snippet contacts  \\\n",
       "34   {'requirement': 'Знания принципов работы BigDa...     None   \n",
       "69   {'requirement': 'Знание SQL (запросы ко множес...     None   \n",
       "102  {'requirement': 'Мотивация учиться и развивать...     None   \n",
       "\n",
       "                                     schedule  working_days  \\\n",
       "34   {'id': 'fullDay', 'name': 'Полный день'}            []   \n",
       "69   {'id': 'fullDay', 'name': 'Полный день'}            []   \n",
       "102  {'id': 'fullDay', 'name': 'Полный день'}            []   \n",
       "\n",
       "    working_time_intervals working_time_modes accept_temporary  \\\n",
       "34                      []                 []            False   \n",
       "69                      []                 []            False   \n",
       "102                     []                 []            False   \n",
       "\n",
       "                                             skills day_of_week  \n",
       "34                                               []           1  \n",
       "69                                               []           2  \n",
       "102  [Python, SQL, PostgreSQL, Git, Atlassian Jira]           4  \n",
       "\n",
       "[3 rows x 31 columns]"
      ]
     },
     "execution_count": 299,
     "metadata": {},
     "output_type": "execute_result"
    }
   ],
   "source": [
    "# Найдем вакансии аналитика данных\n",
    "data_analyst_vacs = df[\n",
    "(df.name.str.lower().str.find('data analyst') > -1) | \\\n",
    "(df.name.str.lower().str.find('data аналитик') > -1) | \\\n",
    "(df.name.str.lower().str.find('аналитик данных') > -1) \n",
    "]\n",
    "\n",
    "data_analyst_vacs.head(3)"
   ]
  },
  {
   "cell_type": "code",
   "execution_count": 300,
   "metadata": {},
   "outputs": [
    {
     "name": "stdout",
     "output_type": "stream",
     "text": [
      "Всего найдено 19 вакансий аналитика данных\n"
     ]
    }
   ],
   "source": [
    "print(f'Всего найдено {data_analyst_vacs.shape[0]} вакансий аналитика данных')"
   ]
  },
  {
   "cell_type": "code",
   "execution_count": 302,
   "metadata": {},
   "outputs": [],
   "source": [
    "data_analyst_all_skills = pd.Series(reduce(lambda x, y: x+y, data_analyst_vacs.skills.apply(list)))"
   ]
  },
  {
   "cell_type": "code",
   "execution_count": 303,
   "metadata": {},
   "outputs": [
    {
     "data": {
      "text/plain": [
       "SQL               9\n",
       "Python            7\n",
       "Spark             5\n",
       "Hadoop            5\n",
       "Анализ данных     3\n",
       "Atlassian Jira    2\n",
       "SCALA             2\n",
       "ETL               2\n",
       "dtype: int64"
      ]
     },
     "execution_count": 303,
     "metadata": {},
     "output_type": "execute_result"
    }
   ],
   "source": [
    "# Наиболее востребованные навыки для аналитика данных\n",
    "\n",
    "data_analyst_skills = data_analyst_all_skills.value_counts()[data_analyst_all_skills.value_counts() > 1]\n",
    "data_analyst_skills"
   ]
  },
  {
   "cell_type": "code",
   "execution_count": 305,
   "metadata": {},
   "outputs": [
    {
     "data": {
      "text/plain": [
       "<AxesSubplot:>"
      ]
     },
     "execution_count": 305,
     "metadata": {},
     "output_type": "execute_result"
    },
    {
     "data": {
      "image/png": "[encoded data removed]",
      "text/plain": [
       "<Figure size 720x360 with 1 Axes>"
      ]
     },
     "metadata": {
      "needs_background": "light"
     },
     "output_type": "display_data"
    }
   ],
   "source": [
    "data_analyst_skills.plot(kind='bar', figsize=(10,5))"
   ]
  },
  {
   "cell_type": "code",
   "execution_count": null,
   "metadata": {},
   "outputs": [],
   "source": []
  }
 ],
 "metadata": {
  "kernelspec": {
   "display_name": "Python 3",
   "language": "python",
   "name": "python3"
  },
  "language_info": {
   "codemirror_mode": {
    "name": "ipython",
    "version": 3
   },
   "file_extension": ".py",
   "mimetype": "text/x-python",
   "name": "python",
   "nbconvert_exporter": "python",
   "pygments_lexer": "ipython3",
   "version": "3.8.10"
  }
 },
 "nbformat": 4,
 "nbformat_minor": 4
}
